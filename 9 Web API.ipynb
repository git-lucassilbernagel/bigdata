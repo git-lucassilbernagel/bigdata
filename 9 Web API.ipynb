{
 "cells": [
  {
   "cell_type": "markdown",
   "metadata": {},
   "source": [
    "# Web APIs\n",
    "\n",
    "## 1. Consuming Web APIs\n",
    "\n",
    "(Partially adapted from https://www.dataquest.io/blog/python-api-tutorial/)\n",
    "\n",
    "* https://randomuser.me/ is a random user generator \n",
    "*\tIt has an API. Go to https://api.randomuser.me/ with your browser\n",
    "*\tYou get a JSON (JavaScript Object Notation) back. A JSON is similar to a Python dictionary.  \n",
    "*  Refresh the browser\n",
    "*\tYou can add query parameters. They are added to the URL with a ? . You then add then the parameter name = the value. More the one parameter are connected with a & e.g.\n",
    "\thttp://api.open-notify.org/iss-pass.json?lat=37.78&lon=-122.41\n",
    "\n",
    "*\t Go the documentation https://randomuser.me/documentation and check how you can get multiple users and to specify constraints on the output\n",
    "*\tGo to your browser and add parameters to https://api.randomuser.me/ so that you get 5 results of only males from the US\n",
    "\n",
    "Enter the URL of your solution:"
   ]
  },
  {
   "cell_type": "code",
   "execution_count": null,
   "metadata": {
    "collapsed": true,
    "jupyter": {
     "outputs_hidden": true
    }
   },
   "outputs": [],
   "source": [
    "# TODO: get 5 results of only males from the US\n",
    "# Enter the URL of your solution:\n",
    "url = 'https://api.randomuser.me/?gender=male&nat=us&results=5'"
   ]
  },
  {
   "cell_type": "markdown",
   "metadata": {},
   "source": [
    "* You can also get the data from the command line. Open the command line and write\n",
    "\n",
    "```bash\n",
    "curl -s https://api.randomuser.me/\n",
    "```\n",
    "\n",
    "You can also run Bash commands directly in your Jupyter Notebook with !:"
   ]
  },
  {
   "cell_type": "code",
   "execution_count": 1,
   "metadata": {},
   "outputs": [
    {
     "name": "stdout",
     "output_type": "stream",
     "text": [
      "{\"results\":[{\"gender\":\"male\",\"name\":{\"title\":\"Mr\",\"first\":\"Agenor\",\"last\":\"Mendes\"},\"location\":{\"street\":{\"number\":6519,\"name\":\"Rua Piauí \"},\"city\":\"Governador Valadares\",\"state\":\"Rio Grande do Norte\",\"country\":\"Brazil\",\"postcode\":80966,\"coordinates\":{\"latitude\":\"-78.0196\",\"longitude\":\"-124.7372\"},\"timezone\":{\"offset\":\"+9:30\",\"description\":\"Adelaide, Darwin\"}},\"email\":\"agenor.mendes@example.com\",\"login\":{\"uuid\":\"09ea85bc-1371-4a4f-89d5-1d3fb16101bf\",\"username\":\"ticklishgoose206\",\"password\":\"mememe\",\"salt\":\"gmDeOq0d\",\"md5\":\"abd59dbb46f33196df6face9f10173dd\",\"sha1\":\"f7225d800d9d66b88d910de091641a293770bab4\",\"sha256\":\"3224ff5e7734182ae91593c1d33c455e4c6ec58012726f898cb377fae644764c\"},\"dob\":{\"date\":\"1991-03-24T11:50:30.870Z\",\"age\":30},\"registered\":{\"date\":\"2005-08-05T08:54:52.173Z\",\"age\":16},\"phone\":\"(71) 3100-7932\",\"cell\":\"(63) 0356-6751\",\"id\":{\"name\":\"\",\"value\":null},\"picture\":{\"large\":\"https://randomuser.me/api/portraits/men/95.jpg\",\"medium\":\"https://randomuser.me/api/portraits/med/men/95.jpg\",\"thumbnail\":\"https://randomuser.me/api/portraits/thumb/men/95.jpg\"},\"nat\":\"BR\"}],\"info\":{\"seed\":\"f9405a68a77febf9\",\"results\":1,\"page\":1,\"version\":\"1.3\"}}"
     ]
    }
   ],
   "source": [
    "!curl -s https://api.randomuser.me/"
   ]
  },
  {
   "cell_type": "markdown",
   "metadata": {},
   "source": [
    "* Import the two libraries \n",
    "    * `requests` and \n",
    "    * `json`. \n",
    "\n",
    "You can find the documentation for the requests package here:\n",
    " http://www.python-requests.org/en/latest/ \n",
    " "
   ]
  },
  {
   "cell_type": "code",
   "execution_count": 2,
   "metadata": {},
   "outputs": [],
   "source": [
    "import requests\n",
    "import json"
   ]
  },
  {
   "cell_type": "markdown",
   "metadata": {},
   "source": [
    "* With the requests package you can call a Web API with the URL and the method get"
   ]
  },
  {
   "cell_type": "code",
   "execution_count": 3,
   "metadata": {},
   "outputs": [],
   "source": [
    "response = requests.get(\"https://api.randomuser.me/\")"
   ]
  },
  {
   "cell_type": "markdown",
   "metadata": {},
   "source": [
    "* Print the status code of the request"
   ]
  },
  {
   "cell_type": "code",
   "execution_count": 4,
   "metadata": {},
   "outputs": [
    {
     "name": "stdout",
     "output_type": "stream",
     "text": [
      "200\n"
     ]
    }
   ],
   "source": [
    "print(response.status_code)"
   ]
  },
  {
   "cell_type": "markdown",
   "metadata": {},
   "source": [
    "**The meaning of the status codes are:**\n",
    "* 200: everything went okay, and the result has been returned (if any)\n",
    "* 301: the server is redirecting you to a different endpoint. This can happen when a company switches domain names, or an endpoint name is changed.\n",
    "* 401: the server thinks you're not authenticated. This happens when you don't send the right credentials to access an API.\n",
    "* 400: the server thinks you made a bad request. This can happen when you don't send along the right data, among other things.\n",
    "* 403: the resource you're trying to access is forbidden – you don't have the right permissions to see it.\n",
    "* 404: the resource you tried to access wasn't found on the server.\n"
   ]
  },
  {
   "cell_type": "markdown",
   "metadata": {},
   "source": [
    "You can specify the query parameters for a URL with a Python dictionary like this:\n",
    "```python\n",
    "parameters = {\"lat\": 37.78, \"lon\": -122.41}\n",
    "```\n",
    "\n",
    "And pass the parameter to the request like this\n",
    "```python\n",
    "response = requests.get(\"http://api.open-notify.org/iss-pass.json\", params=parameters)\n",
    "```\n",
    "This is the same as \n",
    "```python\n",
    "response = requests.get(\"http://api.open-notify.org/iss-pass.json?lat=37.78&lon=-122.41\")\n",
    "```\n",
    "\n",
    "Alternatively you could build also the URL with the parameters by yourself with string concatenation. \n",
    "\n",
    "* Get with the request method 10 results of only males from the US.\n",
    "\n"
   ]
  },
  {
   "cell_type": "code",
   "execution_count": 8,
   "metadata": {},
   "outputs": [],
   "source": [
    "parameters = {'gender': 'male', 'nat': 'us', 'results': 5}\n",
    "response = requests.get('https://api.randomuser.me', params = parameters)"
   ]
  },
  {
   "cell_type": "markdown",
   "metadata": {},
   "source": [
    "* You can show the result of the request with the method text"
   ]
  },
  {
   "cell_type": "code",
   "execution_count": 9,
   "metadata": {
    "scrolled": true
   },
   "outputs": [
    {
     "data": {
      "text/plain": [
       "'{\"results\":[{\"gender\":\"male\",\"name\":{\"title\":\"Mr\",\"first\":\"Clyde\",\"last\":\"Morris\"},\"location\":{\"street\":{\"number\":4420,\"name\":\"Lakeshore Rd\"},\"city\":\"Saginaw\",\"state\":\"Alaska\",\"country\":\"United States\",\"postcode\":51068,\"coordinates\":{\"latitude\":\"-17.8134\",\"longitude\":\"-111.2624\"},\"timezone\":{\"offset\":\"0:00\",\"description\":\"Western Europe Time, London, Lisbon, Casablanca\"}},\"email\":\"clyde.morris@example.com\",\"login\":{\"uuid\":\"9676c074-fe02-4b63-812b-8e372d6d92d4\",\"username\":\"bigcat756\",\"password\":\"a12345\",\"salt\":\"q86ciTzn\",\"md5\":\"3511b415cdeac8d3e04021b5f0fe135d\",\"sha1\":\"a7b046d994b9e2aac2cef37b61aeb082c9623670\",\"sha256\":\"6477ecab3118afe7854ae629e4a63aa97f31d4df1530aa39f21026562c76407d\"},\"dob\":{\"date\":\"1974-06-18T04:32:27.070Z\",\"age\":47},\"registered\":{\"date\":\"2017-12-22T21:08:54.720Z\",\"age\":4},\"phone\":\"(418)-485-1824\",\"cell\":\"(096)-242-8045\",\"id\":{\"name\":\"SSN\",\"value\":\"797-62-5078\"},\"picture\":{\"large\":\"https://randomuser.me/api/portraits/men/24.jpg\",\"medium\":\"https://randomuser.me/api/portraits/med/men/24.jpg\",\"thumbnail\":\"https://randomuser.me/api/portraits/thumb/men/24.jpg\"},\"nat\":\"US\"},{\"gender\":\"male\",\"name\":{\"title\":\"Mr\",\"first\":\"Derrick\",\"last\":\"Riley\"},\"location\":{\"street\":{\"number\":3282,\"name\":\"Marsh Ln\"},\"city\":\"Simi Valley\",\"state\":\"Massachusetts\",\"country\":\"United States\",\"postcode\":75251,\"coordinates\":{\"latitude\":\"-14.6293\",\"longitude\":\"-178.3917\"},\"timezone\":{\"offset\":\"+5:00\",\"description\":\"Ekaterinburg, Islamabad, Karachi, Tashkent\"}},\"email\":\"derrick.riley@example.com\",\"login\":{\"uuid\":\"ea374c06-9cfc-4a39-9cd9-3ca57d6b81b5\",\"username\":\"sadbutterfly907\",\"password\":\"judy\",\"salt\":\"GfUtuHtw\",\"md5\":\"67a212fc39bb3f2765b30d57b15a2e47\",\"sha1\":\"3df9d14d6df5cfad21150d22f392f7594f32b154\",\"sha256\":\"2622a6812e3e1fb68732c303cdaead099f87df6e092eea4ea3de1125a1280f0e\"},\"dob\":{\"date\":\"1998-05-12T19:32:34.189Z\",\"age\":23},\"registered\":{\"date\":\"2006-12-11T03:09:28.107Z\",\"age\":15},\"phone\":\"(650)-861-6626\",\"cell\":\"(143)-568-7003\",\"id\":{\"name\":\"SSN\",\"value\":\"417-34-5650\"},\"picture\":{\"large\":\"https://randomuser.me/api/portraits/men/79.jpg\",\"medium\":\"https://randomuser.me/api/portraits/med/men/79.jpg\",\"thumbnail\":\"https://randomuser.me/api/portraits/thumb/men/79.jpg\"},\"nat\":\"US\"},{\"gender\":\"male\",\"name\":{\"title\":\"Mr\",\"first\":\"Ross\",\"last\":\"Austin\"},\"location\":{\"street\":{\"number\":8216,\"name\":\"Nowlin Rd\"},\"city\":\"Abilene\",\"state\":\"Wyoming\",\"country\":\"United States\",\"postcode\":56319,\"coordinates\":{\"latitude\":\"-31.3007\",\"longitude\":\"16.1575\"},\"timezone\":{\"offset\":\"-8:00\",\"description\":\"Pacific Time (US & Canada)\"}},\"email\":\"ross.austin@example.com\",\"login\":{\"uuid\":\"557b1ef4-c980-4da1-9a4a-16589dc01572\",\"username\":\"beautifuldog651\",\"password\":\"polish\",\"salt\":\"Kmq5imiK\",\"md5\":\"631f1b82f0b285be30146a69750de8d2\",\"sha1\":\"f4c84542f204e849452bf86f3115a119e4f9c4f1\",\"sha256\":\"48089f450973900510cf9d85d8ad7c9eb30cedb2f692926fc33efc29735970a2\"},\"dob\":{\"date\":\"1984-04-23T00:03:41.940Z\",\"age\":37},\"registered\":{\"date\":\"2013-12-08T03:04:51.384Z\",\"age\":8},\"phone\":\"(665)-589-1391\",\"cell\":\"(603)-627-8260\",\"id\":{\"name\":\"SSN\",\"value\":\"415-73-8032\"},\"picture\":{\"large\":\"https://randomuser.me/api/portraits/men/24.jpg\",\"medium\":\"https://randomuser.me/api/portraits/med/men/24.jpg\",\"thumbnail\":\"https://randomuser.me/api/portraits/thumb/men/24.jpg\"},\"nat\":\"US\"},{\"gender\":\"male\",\"name\":{\"title\":\"Mr\",\"first\":\"Alberto\",\"last\":\"Castro\"},\"location\":{\"street\":{\"number\":2145,\"name\":\"Shady Ln Dr\"},\"city\":\"Joliet\",\"state\":\"Wisconsin\",\"country\":\"United States\",\"postcode\":19199,\"coordinates\":{\"latitude\":\"37.3876\",\"longitude\":\"-62.1876\"},\"timezone\":{\"offset\":\"+9:00\",\"description\":\"Tokyo, Seoul, Osaka, Sapporo, Yakutsk\"}},\"email\":\"alberto.castro@example.com\",\"login\":{\"uuid\":\"69a800d0-2d80-4f89-b4e2-329b029ba3ab\",\"username\":\"blackkoala802\",\"password\":\"252525\",\"salt\":\"hckicpVa\",\"md5\":\"75ae5d4e7c3ad60768a227d97b71178a\",\"sha1\":\"e42ed8ac964792e24a1b1504b21c3b2df7a195de\",\"sha256\":\"79b126ebd654ee32bcbcb5b4069c72c41852637babec8a3fcf68fc7917acb351\"},\"dob\":{\"date\":\"1987-07-04T18:04:57.969Z\",\"age\":34},\"registered\":{\"date\":\"2003-10-10T16:41:12.257Z\",\"age\":18},\"phone\":\"(638)-786-5454\",\"cell\":\"(167)-568-4263\",\"id\":{\"name\":\"SSN\",\"value\":\"308-81-7620\"},\"picture\":{\"large\":\"https://randomuser.me/api/portraits/men/52.jpg\",\"medium\":\"https://randomuser.me/api/portraits/med/men/52.jpg\",\"thumbnail\":\"https://randomuser.me/api/portraits/thumb/men/52.jpg\"},\"nat\":\"US\"},{\"gender\":\"male\",\"name\":{\"title\":\"Mr\",\"first\":\"Jessie\",\"last\":\"Campbell\"},\"location\":{\"street\":{\"number\":7636,\"name\":\"First Street\"},\"city\":\"Bernalillo\",\"state\":\"Texas\",\"country\":\"United States\",\"postcode\":48748,\"coordinates\":{\"latitude\":\"15.9366\",\"longitude\":\"7.9574\"},\"timezone\":{\"offset\":\"-11:00\",\"description\":\"Midway Island, Samoa\"}},\"email\":\"jessie.campbell@example.com\",\"login\":{\"uuid\":\"ef25f2a0-5a3b-4e3a-9728-b5d054102e3b\",\"username\":\"goldenbird375\",\"password\":\"astros\",\"salt\":\"kr9Hj5E7\",\"md5\":\"dbb0d54cea2f5dcd30282dcfbac52487\",\"sha1\":\"cfc05fa97c78e0c57defd34a2d17fd02a7431774\",\"sha256\":\"f0f15d289dc88789189438c17a21338f105e0578191ca8dd510c2689517d0672\"},\"dob\":{\"date\":\"1950-04-12T01:47:56.977Z\",\"age\":71},\"registered\":{\"date\":\"2017-01-17T00:40:10.209Z\",\"age\":4},\"phone\":\"(237)-004-0152\",\"cell\":\"(768)-910-3349\",\"id\":{\"name\":\"SSN\",\"value\":\"606-34-6595\"},\"picture\":{\"large\":\"https://randomuser.me/api/portraits/men/18.jpg\",\"medium\":\"https://randomuser.me/api/portraits/med/men/18.jpg\",\"thumbnail\":\"https://randomuser.me/api/portraits/thumb/men/18.jpg\"},\"nat\":\"US\"}],\"info\":{\"seed\":\"0573b689a1f62e3b\",\"results\":5,\"page\":1,\"version\":\"1.3\"}}'"
      ]
     },
     "execution_count": 9,
     "metadata": {},
     "output_type": "execute_result"
    }
   ],
   "source": [
    "response.text"
   ]
  },
  {
   "cell_type": "markdown",
   "metadata": {},
   "source": [
    "* You can convert the data from JSON to a Python dictionary with the package JSON"
   ]
  },
  {
   "cell_type": "code",
   "execution_count": 10,
   "metadata": {},
   "outputs": [],
   "source": [
    "data = json.loads(response.text)"
   ]
  },
  {
   "cell_type": "markdown",
   "metadata": {},
   "source": [
    "* Check the type of variable data"
   ]
  },
  {
   "cell_type": "code",
   "execution_count": 11,
   "metadata": {},
   "outputs": [
    {
     "data": {
      "text/plain": [
       "dict"
      ]
     },
     "execution_count": 11,
     "metadata": {},
     "output_type": "execute_result"
    }
   ],
   "source": [
    "type(data)"
   ]
  },
  {
   "cell_type": "code",
   "execution_count": 12,
   "metadata": {},
   "outputs": [
    {
     "name": "stdout",
     "output_type": "stream",
     "text": [
      "{'results': [{'gender': 'male', 'name': {'title': 'Mr', 'first': 'Clyde', 'last': 'Morris'}, 'location': {'street': {'number': 4420, 'name': 'Lakeshore Rd'}, 'city': 'Saginaw', 'state': 'Alaska', 'country': 'United States', 'postcode': 51068, 'coordinates': {'latitude': '-17.8134', 'longitude': '-111.2624'}, 'timezone': {'offset': '0:00', 'description': 'Western Europe Time, London, Lisbon, Casablanca'}}, 'email': 'clyde.morris@example.com', 'login': {'uuid': '9676c074-fe02-4b63-812b-8e372d6d92d4', 'username': 'bigcat756', 'password': 'a12345', 'salt': 'q86ciTzn', 'md5': '3511b415cdeac8d3e04021b5f0fe135d', 'sha1': 'a7b046d994b9e2aac2cef37b61aeb082c9623670', 'sha256': '6477ecab3118afe7854ae629e4a63aa97f31d4df1530aa39f21026562c76407d'}, 'dob': {'date': '1974-06-18T04:32:27.070Z', 'age': 47}, 'registered': {'date': '2017-12-22T21:08:54.720Z', 'age': 4}, 'phone': '(418)-485-1824', 'cell': '(096)-242-8045', 'id': {'name': 'SSN', 'value': '797-62-5078'}, 'picture': {'large': 'https://randomuser.me/api/portraits/men/24.jpg', 'medium': 'https://randomuser.me/api/portraits/med/men/24.jpg', 'thumbnail': 'https://randomuser.me/api/portraits/thumb/men/24.jpg'}, 'nat': 'US'}, {'gender': 'male', 'name': {'title': 'Mr', 'first': 'Derrick', 'last': 'Riley'}, 'location': {'street': {'number': 3282, 'name': 'Marsh Ln'}, 'city': 'Simi Valley', 'state': 'Massachusetts', 'country': 'United States', 'postcode': 75251, 'coordinates': {'latitude': '-14.6293', 'longitude': '-178.3917'}, 'timezone': {'offset': '+5:00', 'description': 'Ekaterinburg, Islamabad, Karachi, Tashkent'}}, 'email': 'derrick.riley@example.com', 'login': {'uuid': 'ea374c06-9cfc-4a39-9cd9-3ca57d6b81b5', 'username': 'sadbutterfly907', 'password': 'judy', 'salt': 'GfUtuHtw', 'md5': '67a212fc39bb3f2765b30d57b15a2e47', 'sha1': '3df9d14d6df5cfad21150d22f392f7594f32b154', 'sha256': '2622a6812e3e1fb68732c303cdaead099f87df6e092eea4ea3de1125a1280f0e'}, 'dob': {'date': '1998-05-12T19:32:34.189Z', 'age': 23}, 'registered': {'date': '2006-12-11T03:09:28.107Z', 'age': 15}, 'phone': '(650)-861-6626', 'cell': '(143)-568-7003', 'id': {'name': 'SSN', 'value': '417-34-5650'}, 'picture': {'large': 'https://randomuser.me/api/portraits/men/79.jpg', 'medium': 'https://randomuser.me/api/portraits/med/men/79.jpg', 'thumbnail': 'https://randomuser.me/api/portraits/thumb/men/79.jpg'}, 'nat': 'US'}, {'gender': 'male', 'name': {'title': 'Mr', 'first': 'Ross', 'last': 'Austin'}, 'location': {'street': {'number': 8216, 'name': 'Nowlin Rd'}, 'city': 'Abilene', 'state': 'Wyoming', 'country': 'United States', 'postcode': 56319, 'coordinates': {'latitude': '-31.3007', 'longitude': '16.1575'}, 'timezone': {'offset': '-8:00', 'description': 'Pacific Time (US & Canada)'}}, 'email': 'ross.austin@example.com', 'login': {'uuid': '557b1ef4-c980-4da1-9a4a-16589dc01572', 'username': 'beautifuldog651', 'password': 'polish', 'salt': 'Kmq5imiK', 'md5': '631f1b82f0b285be30146a69750de8d2', 'sha1': 'f4c84542f204e849452bf86f3115a119e4f9c4f1', 'sha256': '48089f450973900510cf9d85d8ad7c9eb30cedb2f692926fc33efc29735970a2'}, 'dob': {'date': '1984-04-23T00:03:41.940Z', 'age': 37}, 'registered': {'date': '2013-12-08T03:04:51.384Z', 'age': 8}, 'phone': '(665)-589-1391', 'cell': '(603)-627-8260', 'id': {'name': 'SSN', 'value': '415-73-8032'}, 'picture': {'large': 'https://randomuser.me/api/portraits/men/24.jpg', 'medium': 'https://randomuser.me/api/portraits/med/men/24.jpg', 'thumbnail': 'https://randomuser.me/api/portraits/thumb/men/24.jpg'}, 'nat': 'US'}, {'gender': 'male', 'name': {'title': 'Mr', 'first': 'Alberto', 'last': 'Castro'}, 'location': {'street': {'number': 2145, 'name': 'Shady Ln Dr'}, 'city': 'Joliet', 'state': 'Wisconsin', 'country': 'United States', 'postcode': 19199, 'coordinates': {'latitude': '37.3876', 'longitude': '-62.1876'}, 'timezone': {'offset': '+9:00', 'description': 'Tokyo, Seoul, Osaka, Sapporo, Yakutsk'}}, 'email': 'alberto.castro@example.com', 'login': {'uuid': '69a800d0-2d80-4f89-b4e2-329b029ba3ab', 'username': 'blackkoala802', 'password': '252525', 'salt': 'hckicpVa', 'md5': '75ae5d4e7c3ad60768a227d97b71178a', 'sha1': 'e42ed8ac964792e24a1b1504b21c3b2df7a195de', 'sha256': '79b126ebd654ee32bcbcb5b4069c72c41852637babec8a3fcf68fc7917acb351'}, 'dob': {'date': '1987-07-04T18:04:57.969Z', 'age': 34}, 'registered': {'date': '2003-10-10T16:41:12.257Z', 'age': 18}, 'phone': '(638)-786-5454', 'cell': '(167)-568-4263', 'id': {'name': 'SSN', 'value': '308-81-7620'}, 'picture': {'large': 'https://randomuser.me/api/portraits/men/52.jpg', 'medium': 'https://randomuser.me/api/portraits/med/men/52.jpg', 'thumbnail': 'https://randomuser.me/api/portraits/thumb/men/52.jpg'}, 'nat': 'US'}, {'gender': 'male', 'name': {'title': 'Mr', 'first': 'Jessie', 'last': 'Campbell'}, 'location': {'street': {'number': 7636, 'name': 'First Street'}, 'city': 'Bernalillo', 'state': 'Texas', 'country': 'United States', 'postcode': 48748, 'coordinates': {'latitude': '15.9366', 'longitude': '7.9574'}, 'timezone': {'offset': '-11:00', 'description': 'Midway Island, Samoa'}}, 'email': 'jessie.campbell@example.com', 'login': {'uuid': 'ef25f2a0-5a3b-4e3a-9728-b5d054102e3b', 'username': 'goldenbird375', 'password': 'astros', 'salt': 'kr9Hj5E7', 'md5': 'dbb0d54cea2f5dcd30282dcfbac52487', 'sha1': 'cfc05fa97c78e0c57defd34a2d17fd02a7431774', 'sha256': 'f0f15d289dc88789189438c17a21338f105e0578191ca8dd510c2689517d0672'}, 'dob': {'date': '1950-04-12T01:47:56.977Z', 'age': 71}, 'registered': {'date': '2017-01-17T00:40:10.209Z', 'age': 4}, 'phone': '(237)-004-0152', 'cell': '(768)-910-3349', 'id': {'name': 'SSN', 'value': '606-34-6595'}, 'picture': {'large': 'https://randomuser.me/api/portraits/men/18.jpg', 'medium': 'https://randomuser.me/api/portraits/med/men/18.jpg', 'thumbnail': 'https://randomuser.me/api/portraits/thumb/men/18.jpg'}, 'nat': 'US'}], 'info': {'seed': '0573b689a1f62e3b', 'results': 5, 'page': 1, 'version': '1.3'}}\n"
     ]
    }
   ],
   "source": [
    "print(data)"
   ]
  },
  {
   "cell_type": "markdown",
   "metadata": {},
   "source": [
    "* *pretty-print* (pprint) prints complex data structures like dictionary prettier.  https://docs.python.org/3/library/pprint.html "
   ]
  },
  {
   "cell_type": "code",
   "execution_count": 13,
   "metadata": {},
   "outputs": [
    {
     "name": "stdout",
     "output_type": "stream",
     "text": [
      "{'info': {'page': 1,\n",
      "          'results': 5,\n",
      "          'seed': '0573b689a1f62e3b',\n",
      "          'version': '1.3'},\n",
      " 'results': [{'cell': '(096)-242-8045',\n",
      "              'dob': {'age': 47, 'date': '1974-06-18T04:32:27.070Z'},\n",
      "              'email': 'clyde.morris@example.com',\n",
      "              'gender': 'male',\n",
      "              'id': {'name': 'SSN', 'value': '797-62-5078'},\n",
      "              'location': {'city': 'Saginaw',\n",
      "                           'coordinates': {'latitude': '-17.8134',\n",
      "                                           'longitude': '-111.2624'},\n",
      "                           'country': 'United States',\n",
      "                           'postcode': 51068,\n",
      "                           'state': 'Alaska',\n",
      "                           'street': {'name': 'Lakeshore Rd', 'number': 4420},\n",
      "                           'timezone': {'description': 'Western Europe Time, '\n",
      "                                                       'London, Lisbon, '\n",
      "                                                       'Casablanca',\n",
      "                                        'offset': '0:00'}},\n",
      "              'login': {'md5': '3511b415cdeac8d3e04021b5f0fe135d',\n",
      "                        'password': 'a12345',\n",
      "                        'salt': 'q86ciTzn',\n",
      "                        'sha1': 'a7b046d994b9e2aac2cef37b61aeb082c9623670',\n",
      "                        'sha256': '6477ecab3118afe7854ae629e4a63aa97f31d4df1530aa39f21026562c76407d',\n",
      "                        'username': 'bigcat756',\n",
      "                        'uuid': '9676c074-fe02-4b63-812b-8e372d6d92d4'},\n",
      "              'name': {'first': 'Clyde', 'last': 'Morris', 'title': 'Mr'},\n",
      "              'nat': 'US',\n",
      "              'phone': '(418)-485-1824',\n",
      "              'picture': {'large': 'https://randomuser.me/api/portraits/men/24.jpg',\n",
      "                          'medium': 'https://randomuser.me/api/portraits/med/men/24.jpg',\n",
      "                          'thumbnail': 'https://randomuser.me/api/portraits/thumb/men/24.jpg'},\n",
      "              'registered': {'age': 4, 'date': '2017-12-22T21:08:54.720Z'}},\n",
      "             {'cell': '(143)-568-7003',\n",
      "              'dob': {'age': 23, 'date': '1998-05-12T19:32:34.189Z'},\n",
      "              'email': 'derrick.riley@example.com',\n",
      "              'gender': 'male',\n",
      "              'id': {'name': 'SSN', 'value': '417-34-5650'},\n",
      "              'location': {'city': 'Simi Valley',\n",
      "                           'coordinates': {'latitude': '-14.6293',\n",
      "                                           'longitude': '-178.3917'},\n",
      "                           'country': 'United States',\n",
      "                           'postcode': 75251,\n",
      "                           'state': 'Massachusetts',\n",
      "                           'street': {'name': 'Marsh Ln', 'number': 3282},\n",
      "                           'timezone': {'description': 'Ekaterinburg, '\n",
      "                                                       'Islamabad, Karachi, '\n",
      "                                                       'Tashkent',\n",
      "                                        'offset': '+5:00'}},\n",
      "              'login': {'md5': '67a212fc39bb3f2765b30d57b15a2e47',\n",
      "                        'password': 'judy',\n",
      "                        'salt': 'GfUtuHtw',\n",
      "                        'sha1': '3df9d14d6df5cfad21150d22f392f7594f32b154',\n",
      "                        'sha256': '2622a6812e3e1fb68732c303cdaead099f87df6e092eea4ea3de1125a1280f0e',\n",
      "                        'username': 'sadbutterfly907',\n",
      "                        'uuid': 'ea374c06-9cfc-4a39-9cd9-3ca57d6b81b5'},\n",
      "              'name': {'first': 'Derrick', 'last': 'Riley', 'title': 'Mr'},\n",
      "              'nat': 'US',\n",
      "              'phone': '(650)-861-6626',\n",
      "              'picture': {'large': 'https://randomuser.me/api/portraits/men/79.jpg',\n",
      "                          'medium': 'https://randomuser.me/api/portraits/med/men/79.jpg',\n",
      "                          'thumbnail': 'https://randomuser.me/api/portraits/thumb/men/79.jpg'},\n",
      "              'registered': {'age': 15, 'date': '2006-12-11T03:09:28.107Z'}},\n",
      "             {'cell': '(603)-627-8260',\n",
      "              'dob': {'age': 37, 'date': '1984-04-23T00:03:41.940Z'},\n",
      "              'email': 'ross.austin@example.com',\n",
      "              'gender': 'male',\n",
      "              'id': {'name': 'SSN', 'value': '415-73-8032'},\n",
      "              'location': {'city': 'Abilene',\n",
      "                           'coordinates': {'latitude': '-31.3007',\n",
      "                                           'longitude': '16.1575'},\n",
      "                           'country': 'United States',\n",
      "                           'postcode': 56319,\n",
      "                           'state': 'Wyoming',\n",
      "                           'street': {'name': 'Nowlin Rd', 'number': 8216},\n",
      "                           'timezone': {'description': 'Pacific Time (US & '\n",
      "                                                       'Canada)',\n",
      "                                        'offset': '-8:00'}},\n",
      "              'login': {'md5': '631f1b82f0b285be30146a69750de8d2',\n",
      "                        'password': 'polish',\n",
      "                        'salt': 'Kmq5imiK',\n",
      "                        'sha1': 'f4c84542f204e849452bf86f3115a119e4f9c4f1',\n",
      "                        'sha256': '48089f450973900510cf9d85d8ad7c9eb30cedb2f692926fc33efc29735970a2',\n",
      "                        'username': 'beautifuldog651',\n",
      "                        'uuid': '557b1ef4-c980-4da1-9a4a-16589dc01572'},\n",
      "              'name': {'first': 'Ross', 'last': 'Austin', 'title': 'Mr'},\n",
      "              'nat': 'US',\n",
      "              'phone': '(665)-589-1391',\n",
      "              'picture': {'large': 'https://randomuser.me/api/portraits/men/24.jpg',\n",
      "                          'medium': 'https://randomuser.me/api/portraits/med/men/24.jpg',\n",
      "                          'thumbnail': 'https://randomuser.me/api/portraits/thumb/men/24.jpg'},\n",
      "              'registered': {'age': 8, 'date': '2013-12-08T03:04:51.384Z'}},\n",
      "             {'cell': '(167)-568-4263',\n",
      "              'dob': {'age': 34, 'date': '1987-07-04T18:04:57.969Z'},\n",
      "              'email': 'alberto.castro@example.com',\n",
      "              'gender': 'male',\n",
      "              'id': {'name': 'SSN', 'value': '308-81-7620'},\n",
      "              'location': {'city': 'Joliet',\n",
      "                           'coordinates': {'latitude': '37.3876',\n",
      "                                           'longitude': '-62.1876'},\n",
      "                           'country': 'United States',\n",
      "                           'postcode': 19199,\n",
      "                           'state': 'Wisconsin',\n",
      "                           'street': {'name': 'Shady Ln Dr', 'number': 2145},\n",
      "                           'timezone': {'description': 'Tokyo, Seoul, Osaka, '\n",
      "                                                       'Sapporo, Yakutsk',\n",
      "                                        'offset': '+9:00'}},\n",
      "              'login': {'md5': '75ae5d4e7c3ad60768a227d97b71178a',\n",
      "                        'password': '252525',\n",
      "                        'salt': 'hckicpVa',\n",
      "                        'sha1': 'e42ed8ac964792e24a1b1504b21c3b2df7a195de',\n",
      "                        'sha256': '79b126ebd654ee32bcbcb5b4069c72c41852637babec8a3fcf68fc7917acb351',\n",
      "                        'username': 'blackkoala802',\n",
      "                        'uuid': '69a800d0-2d80-4f89-b4e2-329b029ba3ab'},\n",
      "              'name': {'first': 'Alberto', 'last': 'Castro', 'title': 'Mr'},\n",
      "              'nat': 'US',\n",
      "              'phone': '(638)-786-5454',\n",
      "              'picture': {'large': 'https://randomuser.me/api/portraits/men/52.jpg',\n",
      "                          'medium': 'https://randomuser.me/api/portraits/med/men/52.jpg',\n",
      "                          'thumbnail': 'https://randomuser.me/api/portraits/thumb/men/52.jpg'},\n",
      "              'registered': {'age': 18, 'date': '2003-10-10T16:41:12.257Z'}},\n",
      "             {'cell': '(768)-910-3349',\n",
      "              'dob': {'age': 71, 'date': '1950-04-12T01:47:56.977Z'},\n",
      "              'email': 'jessie.campbell@example.com',\n",
      "              'gender': 'male',\n",
      "              'id': {'name': 'SSN', 'value': '606-34-6595'},\n",
      "              'location': {'city': 'Bernalillo',\n",
      "                           'coordinates': {'latitude': '15.9366',\n",
      "                                           'longitude': '7.9574'},\n",
      "                           'country': 'United States',\n",
      "                           'postcode': 48748,\n",
      "                           'state': 'Texas',\n",
      "                           'street': {'name': 'First Street', 'number': 7636},\n",
      "                           'timezone': {'description': 'Midway Island, Samoa',\n",
      "                                        'offset': '-11:00'}},\n",
      "              'login': {'md5': 'dbb0d54cea2f5dcd30282dcfbac52487',\n",
      "                        'password': 'astros',\n",
      "                        'salt': 'kr9Hj5E7',\n",
      "                        'sha1': 'cfc05fa97c78e0c57defd34a2d17fd02a7431774',\n",
      "                        'sha256': 'f0f15d289dc88789189438c17a21338f105e0578191ca8dd510c2689517d0672',\n",
      "                        'username': 'goldenbird375',\n",
      "                        'uuid': 'ef25f2a0-5a3b-4e3a-9728-b5d054102e3b'},\n",
      "              'name': {'first': 'Jessie', 'last': 'Campbell', 'title': 'Mr'},\n",
      "              'nat': 'US',\n",
      "              'phone': '(237)-004-0152',\n",
      "              'picture': {'large': 'https://randomuser.me/api/portraits/men/18.jpg',\n",
      "                          'medium': 'https://randomuser.me/api/portraits/med/men/18.jpg',\n",
      "                          'thumbnail': 'https://randomuser.me/api/portraits/thumb/men/18.jpg'},\n",
      "              'registered': {'age': 4, 'date': '2017-01-17T00:40:10.209Z'}}]}\n"
     ]
    }
   ],
   "source": [
    "from pprint import pprint\n",
    "pprint(data)"
   ]
  },
  {
   "cell_type": "markdown",
   "metadata": {},
   "source": [
    "* Loop through the dictionary and print all first names"
   ]
  },
  {
   "cell_type": "code",
   "execution_count": 19,
   "metadata": {},
   "outputs": [
    {
     "name": "stdout",
     "output_type": "stream",
     "text": [
      "Clyde\n",
      "Derrick\n",
      "Ross\n",
      "Alberto\n",
      "Jessie\n"
     ]
    }
   ],
   "source": [
    "for i in range(5):\n",
    "    print(data['results'][i]['name']['first'])"
   ]
  },
  {
   "cell_type": "markdown",
   "metadata": {},
   "source": [
    "* Get all astronauts who are right now in space. You get the information about the Web APU from here  http://open-notify.org/Open-Notify-API/People-In-Space/ "
   ]
  },
  {
   "cell_type": "markdown",
   "metadata": {},
   "source": [
    "* Print the number of people that are right now in space"
   ]
  },
  {
   "cell_type": "markdown",
   "metadata": {},
   "source": [
    "* Print the names of all astronauts "
   ]
  },
  {
   "cell_type": "code",
   "execution_count": 27,
   "metadata": {},
   "outputs": [
    {
     "name": "stdout",
     "output_type": "stream",
     "text": [
      "7\n",
      "Mark Vande Hei\n",
      "Oleg Novitskiy\n",
      "Pyotr Dubrov\n",
      "Thomas Pesquet\n",
      "Megan McArthur\n",
      "Shane Kimbrough\n",
      "Akihiko Hoshide\n"
     ]
    }
   ],
   "source": [
    "response = requests.get('http://api.open-notify.org/astros.json')\n",
    "data2 = json.loads(response.text)\n",
    "\n",
    "number_of_astronauts = len(data2['people'])\n",
    "\n",
    "print(number_of_astronauts)\n",
    "\n",
    "for i in range(number_of_astronauts):\n",
    "    print(data2['people'][i]['name'])"
   ]
  },
  {
   "cell_type": "markdown",
   "metadata": {},
   "source": [
    "* A lot of Web APIs require a api-key for interacting with them (like Twitter, Facebook, …). You find at http://www.python-requests.org/en/latest/user/authentication/ more information for Authentication for Web APIs with the request package\n",
    "* There are also special Python packages for interacting with services. E.g. for Twitter: http://www.tweepy.org/ or  https://github.com/bear/python-twitter \n",
    "\n",
    "See e.g. http://socialmedia-class.org/twittertutorial.html for a tutorial"
   ]
  },
  {
   "cell_type": "markdown",
   "metadata": {},
   "source": [
    "## 2. Creating a Web API\n",
    "\n",
    "* Create a folder `webapi` and change into it.\n",
    "* Create in the `webapi` folder a file with the name `Dockerfile` with the following content:\n",
    "\n",
    "----\n",
    "```bash\n",
    "# Use an official Python runtime as a parent image\n",
    "FROM python:3.7-slim\n",
    "\n",
    "# Set the working directory to /app\n",
    "WORKDIR /app\n",
    "\n",
    "# Copy the current directory contents into the container at /app\n",
    "COPY app/ /app\n",
    "\n",
    "# Install any needed packages specified in requirements.txt\n",
    "RUN pip install --trusted-host pypi.python.org -r requirements.txt\n",
    "\n",
    "# Make port 80 available to the world outside this container\n",
    "EXPOSE 80\n",
    "\n",
    "# Run app.py when the container launches\n",
    "CMD [\"python\", \"app.py\"]\n",
    "```\n",
    "\n",
    "-----\n",
    "\n",
    "* We can also use Docker compose with just one service. Create in your `webapi` folder a `docker-compose.yml` file:\n",
    "\n",
    "-----\n",
    "\n",
    "```yaml\n",
    "version: '3'\n",
    "services:\n",
    "  api:\n",
    "    build: .\n",
    "    ports:\n",
    "      - \"5000:80\"\n",
    "    restart: always\n",
    "    volumes:\n",
    "      - ./app:/app\n",
    "```\n",
    "-----\n",
    "\n",
    "* Create a folder in the `webapi` folder a new folder with the name `app`\n",
    "* We will build a web API with `Flask` (http://flask.pocoo.org/) . Create a `requirements.txt` file in the `app` folder. Here we can specify all python `pip` packages that we need:\n",
    "\n",
    "-----\n",
    "```bash\n",
    "Flask\n",
    "```\n",
    "-----\n",
    "\n",
    "* Create the `app.py` file in the `app` folder:\n",
    "\n",
    "-----\n",
    "```python\n",
    "from flask import Flask\n",
    "from flask import request, jsonify\n",
    "\n",
    "app = Flask(__name__)\n",
    "\n",
    "courses = [\n",
    "    {'id': 0,\n",
    "     'title': 'Data Science',\n",
    "     'professor': 'Markus Löcher',\n",
    "     'semester': '1'},\n",
    "    {'id': 1,\n",
    "     'title': 'Data Warehousing',\n",
    "     'professor': 'Roland M. Mueller',\n",
    "     'semester': '1'},\n",
    "    {'id': 2,\n",
    "     'title': 'Business Process Management',\n",
    "     'professor': 'Frank Habermann',\n",
    "     'semester': '1'},\n",
    "    {'id': 3,\n",
    "     'title': 'Stratigic Issues of IT',\n",
    "     'professor': 'Sven Pohland',\n",
    "     'semester': '1'},\n",
    "    {'id': 4,\n",
    "     'title': 'Text, Web and Social Media Analytics Lab',\n",
    "     'professor': 'Markus Löcher',\n",
    "     'semester': '2'},\n",
    "    {'id': 5,\n",
    "     'title': 'Enterprise Architectures for Big Data',\n",
    "     'professor': 'Roland M. Mueller',\n",
    "     'semester': '2'},\n",
    "    {'id': 6,\n",
    "     'title': 'Business Process Integration Lab',\n",
    "     'professor': 'Frank Habermann',\n",
    "     'semester': '2'},\n",
    "    {'id': 7,\n",
    "     'title': 'IT-Security and Privacy',\n",
    "     'professor': 'Dennis Uckel',\n",
    "     'semester': '2'},\n",
    "    {'id': 8,\n",
    "     'title': 'Research Methods',\n",
    "     'professor': 'Marcus Birkenkrahe',\n",
    "     'semester': '2'},\n",
    "]\n",
    "\n",
    "@app.route('/api/v1/courses/all', methods=['GET'])\n",
    "def api_all():\n",
    "    return jsonify(courses)\n",
    "\n",
    "@app.route('/api/v1/courses', methods=['GET'])\n",
    "def api_id():\n",
    "    # Check if an ID was provided as part of the URL.\n",
    "    # If ID is provided, assign it to a variable.\n",
    "    # If no ID is provided, display an error in the browser.\n",
    "    if 'id' in request.args:\n",
    "        id = int(request.args['id'])\n",
    "    else:\n",
    "        return \"Error: No id field provided. Please specify an id.\"\n",
    "\n",
    "    # Create an empty list for our results\n",
    "    results = []\n",
    "\n",
    "    # Loop through the data and match results that fit the requested ID.\n",
    "    # IDs are unique, but other fields might return many results\n",
    "    for course in courses:\n",
    "        if course['id'] == id:\n",
    "            results.append(course)\n",
    "\n",
    "    # Use the jsonify function from Flask to convert our list of\n",
    "    # Python dictionaries to the JSON format.\n",
    "    return jsonify(results)\n",
    "\n",
    "if __name__ == \"__main__\":\n",
    "    app.run(host=\"0.0.0.0\", port=80, debug=True)\n",
    "```\n",
    "-----\n",
    "* Open http://localhost:5000/api/v1/courses/all in a browser\n",
    "* Open http://localhost:5000/api/v1/courses?id=5 in a browser\n"
   ]
  },
  {
   "cell_type": "markdown",
   "metadata": {},
   "source": [
    "* Use your own API here in the Jupyter Notebook with Python and print all names of all courses "
   ]
  },
  {
   "cell_type": "code",
   "execution_count": 29,
   "metadata": {},
   "outputs": [
    {
     "name": "stdout",
     "output_type": "stream",
     "text": [
      "Data Science\n",
      "Data Warehousing\n",
      "Business Process Management\n",
      "Stratigic Issues of IT\n",
      "Text, Web and Social Media Analytics Lab\n",
      "Enterprise Architectures for Big Data\n",
      "Business Process Integration Lab\n",
      "IT-Security and Privacy\n",
      "Research Methods\n"
     ]
    }
   ],
   "source": [
    "response = requests.get('http://localhost:5000/api/v1/courses/all')\n",
    "data3 = json.loads(response.text)\n",
    "\n",
    "for course in data3:\n",
    "    print(course['title'])"
   ]
  },
  {
   "cell_type": "markdown",
   "metadata": {},
   "source": [
    "* Add the possibility to find courses based on the semester\n",
    "* Use your API in Python and print all names of all courses in the second semester"
   ]
  },
  {
   "cell_type": "code",
   "execution_count": 34,
   "metadata": {},
   "outputs": [
    {
     "data": {
      "text/plain": [
       "['Text, Web and Social Media Analytics Lab',\n",
       " 'Enterprise Architectures for Big Data',\n",
       " 'Business Process Integration Lab',\n",
       " 'IT-Security and Privacy',\n",
       " 'Research Methods']"
      ]
     },
     "execution_count": 34,
     "metadata": {},
     "output_type": "execute_result"
    }
   ],
   "source": [
    "def courses_semester_specific(data, semester):\n",
    "    courses = []\n",
    "    for course in data:\n",
    "        if course['semester']==str(semester):\n",
    "            courses.append(course['title'])\n",
    "        \n",
    "    return courses\n",
    "            \n",
    "    \n",
    "courses_semester_specific(data3, 2) "
   ]
  },
  {
   "cell_type": "markdown",
   "metadata": {},
   "source": [
    "* Add a function that can convert Fahrenheit to Celsius \n",
    "* Call your API and get the Celsius value for 100°F Fahrenheit"
   ]
  },
  {
   "cell_type": "code",
   "execution_count": null,
   "metadata": {},
   "outputs": [],
   "source": []
  },
  {
   "cell_type": "code",
   "execution_count": null,
   "metadata": {
    "collapsed": true,
    "jupyter": {
     "outputs_hidden": true
    }
   },
   "outputs": [],
   "source": [
    "# TODO"
   ]
  }
 ],
 "metadata": {
  "kernelspec": {
   "display_name": "Python 3",
   "language": "python",
   "name": "python3"
  },
  "language_info": {
   "codemirror_mode": {
    "name": "ipython",
    "version": 3
   },
   "file_extension": ".py",
   "mimetype": "text/x-python",
   "name": "python",
   "nbconvert_exporter": "python",
   "pygments_lexer": "ipython3",
   "version": "3.8.3"
  },
  "varInspector": {
   "cols": {
    "lenName": 16,
    "lenType": 16,
    "lenVar": 40
   },
   "kernels_config": {
    "python": {
     "delete_cmd_postfix": "",
     "delete_cmd_prefix": "del ",
     "library": "var_list.py",
     "varRefreshCmd": "print(var_dic_list())"
    },
    "r": {
     "delete_cmd_postfix": ") ",
     "delete_cmd_prefix": "rm(",
     "library": "var_list.r",
     "varRefreshCmd": "cat(var_dic_list()) "
    }
   },
   "types_to_exclude": [
    "module",
    "function",
    "builtin_function_or_method",
    "instance",
    "_Feature"
   ],
   "window_display": false
  }
 },
 "nbformat": 4,
 "nbformat_minor": 4
}

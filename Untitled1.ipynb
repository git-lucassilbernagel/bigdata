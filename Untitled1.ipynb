{
 "cells": [
  {
   "cell_type": "code",
   "execution_count": 1,
   "metadata": {},
   "outputs": [],
   "source": [
    "import os"
   ]
  },
  {
   "cell_type": "code",
   "execution_count": 2,
   "metadata": {},
   "outputs": [
    {
     "data": {
      "text/plain": [
       "['4FC78776-61BE-479C-BECB-08EC61A2D66D.JPG',\n",
       " 'IMG_9873.jpeg',\n",
       " 'IMG_5557.jpg',\n",
       " 'IMG_9824.jpeg',\n",
       " 'IMG_9848.jpeg',\n",
       " 'IMG_9809.jpeg',\n",
       " 'IMG_7024.JPG',\n",
       " 'IMG_7532.JPG',\n",
       " 'IMG_9859.jpeg',\n",
       " '5D2B439E-934B-493A-945B-872E2C8C6853.JPG',\n",
       " 'IMG_9858.jpeg',\n",
       " 'IMG_9586.jpeg',\n",
       " 'IMG_8787.jpeg',\n",
       " 'IMG_9806.jpeg',\n",
       " 'IMG_7930.jpeg',\n",
       " 'IMG_9735.jpeg']"
      ]
     },
     "execution_count": 2,
     "metadata": {},
     "output_type": "execute_result"
    }
   ],
   "source": [
    "os.listdir('/Users/lucassilbernagel/Documents/_Coding_Projects_/Thirst Bot/Thirst Bot Pics')"
   ]
  },
  {
   "cell_type": "code",
   "execution_count": null,
   "metadata": {},
   "outputs": [],
   "source": []
  }
 ],
 "metadata": {
  "kernelspec": {
   "display_name": "Python 3",
   "language": "python",
   "name": "python3"
  },
  "language_info": {
   "codemirror_mode": {
    "name": "ipython",
    "version": 3
   },
   "file_extension": ".py",
   "mimetype": "text/x-python",
   "name": "python",
   "nbconvert_exporter": "python",
   "pygments_lexer": "ipython3",
   "version": "3.8.3"
  }
 },
 "nbformat": 4,
 "nbformat_minor": 4
}
